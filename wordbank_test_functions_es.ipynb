{
 "cells": [
  {
   "cell_type": "code",
   "execution_count": null,
   "id": "0",
   "metadata": {},
   "outputs": [],
   "source": [
    "from load_wordbank_data import read_and_clean_wordbank_data\n",
    "from wordbank_logistic_fits import compute_curve_fits, plot_curve_fits, compute_and_export_curve_fits"
   ]
  },
  {
   "cell_type": "code",
   "execution_count": null,
   "id": "1",
   "metadata": {},
   "outputs": [],
   "source": [
    "df_WS = read_and_clean_wordbank_data('~/Desktop/LingPredict data/wordbank_data_WS_Produces_es_MX.csv',\n",
    "                                        '~/Desktop/LingPredict data/uni_lemmas_WS_es_MX.csv',\n",
    "                                        lang='es', inventory='WS', measure='Produces',\n",
    "                                        cols_to_drop=['30'] # drop 30 month outlier\n",
    "                                      )\n",
    "df_WG = read_and_clean_wordbank_data('~/Desktop/LingPredict data/wordbank_data_WG_Produces_es_MX.csv',\n",
    "                                        '~/Desktop/LingPredict data/uni_lemmas_WG_es_MX.csv',\n",
    "                                        lang='es', inventory='WG', measure='Produces',\n",
    "                                      )\n",
    "df_WG_U = read_and_clean_wordbank_data('~/Desktop/LingPredict data/wordbank_data_WG_Understands_es_MX.csv',\n",
    "                                        '~/Desktop/LingPredict data/uni_lemmas_WG_es_MX.csv',\n",
    "                                        lang='es', inventory='WG', measure='Understands',\n",
    "                                      )"
   ]
  },
  {
   "cell_type": "code",
   "execution_count": null,
   "id": "2",
   "metadata": {},
   "outputs": [],
   "source": [
    "display(df_WS.head())\n",
    "display(df_WS.tail())\n",
    "df_WS.shape"
   ]
  },
  {
   "cell_type": "code",
   "execution_count": null,
   "id": "3",
   "metadata": {},
   "outputs": [],
   "source": [
    "display(df_WG.head())\n",
    "display(df_WG.tail())\n",
    "df_WG.shape"
   ]
  },
  {
   "cell_type": "code",
   "execution_count": null,
   "id": "4",
   "metadata": {},
   "outputs": [],
   "source": [
    "display(df_WG_U.head())\n",
    "display(df_WG_U.tail())\n",
    "df_WG_U.shape"
   ]
  },
  {
   "cell_type": "code",
   "execution_count": null,
   "id": "5",
   "metadata": {},
   "outputs": [],
   "source": [
    "print(df_WG['uni_lemma'].isin(df_WS['uni_lemma']).all())\n",
    "df_WG[df_WG['uni_lemma'].isin(df_WS['uni_lemma']) == False]"
   ]
  },
  {
   "cell_type": "code",
   "execution_count": null,
   "id": "6",
   "metadata": {},
   "outputs": [],
   "source": [
    "display(df_WS[df_WS['token'].str.startswith('cabr', na=False)])\n",
    "display(df_WS[df_WS['token'].str.contains('chiv', na=False)])\n",
    "display(df_WS[df_WS['token'].str.contains('casa', na=False)])\n",
    "display(df_WS[df_WS['token'].str.contains('tien', na=False)])\n",
    "display(df_WS[df_WS['token'].str.startswith('no', na=False)])\n",
    "display(df_WS[df_WS['token'].str.contains('moj', na=False)])\n",
    "display(df_WS[df_WS['token'].str.contains('sec', na=False)])\n",
    "display(df_WS[df_WS['token'].str.contains('trab', na=False)])\n",
    "display(df_WS[df_WS['token'].str.contains('tempr', na=False)])\n",
    "display(df_WS[df_WS['token'].str.contains('cuid', na=False)])\n",
    "display(df_WS[df_WS['token'].str.contains('sed', na=False)])\n",
    "display(df_WS[df_WS['token'].str.contains('suen', na=False)])\n",
    "display(df_WS[df_WS['token'].str.startswith('tambi', na=False)])"
   ]
  },
  {
   "cell_type": "code",
   "execution_count": null,
   "id": "7",
   "metadata": {},
   "outputs": [],
   "source": [
    "display(df_WG[df_WG['uni_lemma'] == 'home'])\n",
    "display(df_WG[df_WG['uni_lemma'] == 'house'])\n",
    "df_WG[df_WG['uni_lemma'] == 'market']"
   ]
  },
  {
   "cell_type": "code",
   "execution_count": null,
   "id": "8",
   "metadata": {},
   "outputs": [],
   "source": [
    "dfs = [df_WS, df_WG, df_WG_U]\n",
    "df_curve_fits = compute_curve_fits(dfs)"
   ]
  },
  {
   "cell_type": "code",
   "execution_count": null,
   "id": "9",
   "metadata": {},
   "outputs": [],
   "source": [
    "print(df_curve_fits.sort_values(by='median_aoa', ascending=True)[['uni_lemma', 'token', 'growth_rate', 'median_aoa']].head(10))"
   ]
  },
  {
   "cell_type": "code",
   "execution_count": null,
   "id": "10",
   "metadata": {},
   "outputs": [],
   "source": [
    "plot_curve_fits(df_curve_fits)"
   ]
  },
  {
   "cell_type": "code",
   "execution_count": null,
   "id": "11",
   "metadata": {},
   "outputs": [],
   "source": [
    "df_curve_fits.head()"
   ]
  },
  {
   "cell_type": "code",
   "execution_count": null,
   "id": "12",
   "metadata": {},
   "outputs": [],
   "source": [
    "print(df_curve_fits.sort_values(by='median_aoa', ascending=True)[['uni_lemma', 'token', 'growth_rate', 'median_aoa']].head(10))"
   ]
  },
  {
   "cell_type": "code",
   "execution_count": null,
   "id": "13",
   "metadata": {},
   "outputs": [],
   "source": [
    "#compute_and_export_curve_fits('~/Desktop/wordbank_es_logistic_fits.csv', dfs)"
   ]
  },
  {
   "cell_type": "code",
   "execution_count": null,
   "id": "14",
   "metadata": {},
   "outputs": [],
   "source": [
    "df_curve_fits[df_curve_fits['token'] == 'luego']"
   ]
  },
  {
   "cell_type": "code",
   "execution_count": null,
   "id": "15",
   "metadata": {},
   "outputs": [],
   "source": []
  }
 ],
 "metadata": {
  "kernelspec": {
   "display_name": "erdos_ds_environment",
   "language": "python",
   "name": "python3"
  },
  "language_info": {
   "codemirror_mode": {
    "name": "ipython",
    "version": 3
   },
   "file_extension": ".py",
   "mimetype": "text/x-python",
   "name": "python",
   "nbconvert_exporter": "python",
   "pygments_lexer": "ipython3",
   "version": "3.12.11"
  }
 },
 "nbformat": 4,
 "nbformat_minor": 5
}
