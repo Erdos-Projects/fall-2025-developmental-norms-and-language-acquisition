{
 "cells": [
  {
   "cell_type": "code",
   "execution_count": 8,
   "id": "f8edb11d",
   "metadata": {},
   "outputs": [],
   "source": [
    "import pandas as pd\n",
    "import numpy as np\n",
    "#from gensim.models import KeyedVectors # gensim not compatible with numpy>=2.0\n",
    "import re"
   ]
  },
  {
   "cell_type": "code",
   "execution_count": null,
   "id": "04bc20bc",
   "metadata": {},
   "outputs": [],
   "source": [
    "train_data = pd.read_pickle('../00_data/clean/en_es_train_data.pkl')\n",
    "train_data.head()"
   ]
  },
  {
   "cell_type": "code",
   "execution_count": null,
   "id": "aa5ad61c",
   "metadata": {},
   "outputs": [],
   "source": [
    "working_df = train_data[['token', 'part_of_speech', 'prompt']]\n",
    "working_df.head()"
   ]
  },
  {
   "cell_type": "code",
   "execution_count": 16,
   "id": "b330cf41",
   "metadata": {},
   "outputs": [
    {
     "name": "stdout",
     "output_type": "stream",
     "text": [
      "EN vocab: 1967 | ES vocab: 2367\n"
     ]
    }
   ],
   "source": [
    "# Ensure english tokens normalized\n",
    "en_vocab = set(working_df['token'].str.lower())\n",
    "\n",
    "# Spanish words from prompts (keep diacritics; strip punctuation)\n",
    "SPANISH_KEEP = r\"[^A-Za-z0-9_áéíóúüñÁÉÍÓÚÜÑ]\"  # drop everything else\n",
    "def es_words(s: str):\n",
    "    if not isinstance(s, str):\n",
    "        return []\n",
    "    out = []\n",
    "    for w in s.split():\n",
    "        w = re.sub(SPANISH_KEEP, \"\", w).lower()\n",
    "        if w:\n",
    "            out.append(w)\n",
    "    return out\n",
    "\n",
    "es_vocab = set()\n",
    "for s in working_df['prompt']:\n",
    "    es_vocab.update(es_words(s))\n",
    "    '''if isinstance(s, str):\n",
    "        es_vocab.update(es_words(s))'''\n",
    "\n",
    "print(f\"EN vocab: {len(en_vocab)} | ES vocab: {len(es_vocab)}\")"
   ]
  },
  {
   "cell_type": "code",
   "execution_count": 12,
   "id": "a87341c4",
   "metadata": {},
   "outputs": [
    {
     "name": "stdout",
     "output_type": "stream",
     "text": [
      "Loaded EN: 1954 | ES: 2354 | dim=300\n"
     ]
    }
   ],
   "source": [
    "# Code to load fastText vectors\n",
    "EN_VEC = \"../00_data/raw/wiki.en.align.vec\"\n",
    "ES_VEC = \"../00_data/raw/wiki.es.align.vec\"\n",
    "\n",
    "def load_subset_vecs(vec_path: str, vocab: set[str], dtype=np.float32):\n",
    "    \"\"\"\n",
    "    Load only rows whose 'word' is in vocab from a .vec text embedding file.\n",
    "    Returns: dict[word] -> np.ndarray[d]\n",
    "    \"\"\"\n",
    "    vecs = {}\n",
    "    with open(vec_path, \"r\", encoding=\"utf-8\", errors=\"ignore\") as f:\n",
    "        # Detect an optional header line \"n d\"\n",
    "        first = f.readline()\n",
    "        parts = first.strip().split()\n",
    "        header = len(parts) == 2 and all(p.isdigit() for p in parts)\n",
    "\n",
    "        def parse_line(line):\n",
    "            # split only on spaces; first token is the word, rest are floats\n",
    "            sp = line.rstrip(\"\\n\").split(\" \")\n",
    "            if not sp:\n",
    "                return None, None\n",
    "            word, *vals = sp\n",
    "            return word, vals\n",
    "\n",
    "        if not header:\n",
    "            # first line is data\n",
    "            w, vals = parse_line(first)\n",
    "            if w in vocab:\n",
    "                vecs[w] = np.asarray(vals, dtype=dtype)\n",
    "\n",
    "        for line in f:\n",
    "            w, vals = parse_line(line)\n",
    "            if w in vocab:\n",
    "                vecs[w] = np.asarray(vals, dtype=dtype)\n",
    "\n",
    "    # sanity check: all vectors same dimension\n",
    "    dims = {v.shape[0] for v in vecs.values()}\n",
    "    if len(dims) != 1:\n",
    "        raise ValueError(f\"Inconsistent dims in {vec_path}: {dims}\")\n",
    "    return vecs\n",
    "\n",
    "\n",
    "en_vecs = load_subset_vecs(EN_VEC, en_vocab)\n",
    "es_vecs = load_subset_vecs(ES_VEC, es_vocab)\n",
    "print(f\"Loaded EN: {len(en_vecs)} | ES: {len(es_vecs)} | dim={next(iter(en_vecs.values())).shape[0]}\")\n"
   ]
  },
  {
   "cell_type": "code",
   "execution_count": 17,
   "id": "edf255b1",
   "metadata": {},
   "outputs": [
    {
     "data": {
      "text/html": [
       "<div>\n",
       "<style scoped>\n",
       "    .dataframe tbody tr th:only-of-type {\n",
       "        vertical-align: middle;\n",
       "    }\n",
       "\n",
       "    .dataframe tbody tr th {\n",
       "        vertical-align: top;\n",
       "    }\n",
       "\n",
       "    .dataframe thead th {\n",
       "        text-align: right;\n",
       "    }\n",
       "</style>\n",
       "<table border=\"1\" class=\"dataframe\">\n",
       "  <thead>\n",
       "    <tr style=\"text-align: right;\">\n",
       "      <th></th>\n",
       "      <th>token</th>\n",
       "      <th>prompt</th>\n",
       "      <th>max_sim</th>\n",
       "      <th>best_es</th>\n",
       "      <th>top3_es</th>\n",
       "    </tr>\n",
       "  </thead>\n",
       "  <tbody>\n",
       "    <tr>\n",
       "      <th>0</th>\n",
       "      <td>i</td>\n",
       "      <td>Yo soy un niño.</td>\n",
       "      <td>0.242132</td>\n",
       "      <td>yo</td>\n",
       "      <td>[(yo, 0.24213218688964844), (soy, 0.1722080409...</td>\n",
       "    </tr>\n",
       "    <tr>\n",
       "      <th>1</th>\n",
       "      <td>am</td>\n",
       "      <td>Yo soy un niño.</td>\n",
       "      <td>0.280849</td>\n",
       "      <td>soy</td>\n",
       "      <td>[(soy, 0.280849426984787), (yo, 0.182461321353...</td>\n",
       "    </tr>\n",
       "    <tr>\n",
       "      <th>2</th>\n",
       "      <td>a</td>\n",
       "      <td>Yo soy un niño.</td>\n",
       "      <td>0.441548</td>\n",
       "      <td>un</td>\n",
       "      <td>[(un, 0.44154781103134155), (niño, 0.095649838...</td>\n",
       "    </tr>\n",
       "    <tr>\n",
       "      <th>3</th>\n",
       "      <td>boy</td>\n",
       "      <td>Yo soy un niño.</td>\n",
       "      <td>0.402527</td>\n",
       "      <td>niño</td>\n",
       "      <td>[(niño, 0.40252676606178284), (soy, 0.16678625...</td>\n",
       "    </tr>\n",
       "    <tr>\n",
       "      <th>4</th>\n",
       "      <td>i</td>\n",
       "      <td>Yo soy de México.</td>\n",
       "      <td>0.242132</td>\n",
       "      <td>yo</td>\n",
       "      <td>[(yo, 0.24213218688964844), (soy, 0.1722080409...</td>\n",
       "    </tr>\n",
       "  </tbody>\n",
       "</table>\n",
       "</div>"
      ],
      "text/plain": [
       "  token             prompt   max_sim best_es  \\\n",
       "0     i    Yo soy un niño.  0.242132      yo   \n",
       "1    am    Yo soy un niño.  0.280849     soy   \n",
       "2     a    Yo soy un niño.  0.441548      un   \n",
       "3   boy    Yo soy un niño.  0.402527    niño   \n",
       "4     i  Yo soy de México.  0.242132      yo   \n",
       "\n",
       "                                             top3_es  \n",
       "0  [(yo, 0.24213218688964844), (soy, 0.1722080409...  \n",
       "1  [(soy, 0.280849426984787), (yo, 0.182461321353...  \n",
       "2  [(un, 0.44154781103134155), (niño, 0.095649838...  \n",
       "3  [(niño, 0.40252676606178284), (soy, 0.16678625...  \n",
       "4  [(yo, 0.24213218688964844), (soy, 0.1722080409...  "
      ]
     },
     "execution_count": 17,
     "metadata": {},
     "output_type": "execute_result"
    }
   ],
   "source": [
    "# Compute similarities\n",
    "def cos_sim(a: np.ndarray, b: np.ndarray, eps=1e-12) -> float:\n",
    "    a = a / (np.linalg.norm(a) + eps)\n",
    "    b = b / (np.linalg.norm(b) + eps)\n",
    "    return float(a @ b)\n",
    "\n",
    "def row_scores(row, topk=3):\n",
    "    token = row['token'].lower()\n",
    "    if token not in en_vecs:\n",
    "        return np.nan, None, []\n",
    "    tvec = en_vecs[token]\n",
    "    words = [w for w in es_words(row['prompt']) if w in es_vecs]\n",
    "    if not words:\n",
    "        return np.nan, None, []\n",
    "\n",
    "    scored = [(w, cos_sim(tvec, es_vecs[w])) for w in words]\n",
    "    scored.sort(key=lambda x: x[1], reverse=True)\n",
    "    best_word, best_sim = scored[0]\n",
    "    return best_sim, best_word, scored[:topk]\n",
    "\n",
    "out = working_df.copy()\n",
    "out['max_sim'], out['best_es'], out['top3_es'] = zip(*out.apply(row_scores, axis=1))\n",
    "out[['token','prompt','max_sim','best_es','top3_es']].head()"
   ]
  },
  {
   "cell_type": "code",
   "execution_count": null,
   "id": "251d056b",
   "metadata": {},
   "outputs": [
    {
     "data": {
      "text/html": [
       "<div>\n",
       "<style scoped>\n",
       "    .dataframe tbody tr th:only-of-type {\n",
       "        vertical-align: middle;\n",
       "    }\n",
       "\n",
       "    .dataframe tbody tr th {\n",
       "        vertical-align: top;\n",
       "    }\n",
       "\n",
       "    .dataframe thead th {\n",
       "        text-align: right;\n",
       "    }\n",
       "</style>\n",
       "<table border=\"1\" class=\"dataframe\">\n",
       "  <thead>\n",
       "    <tr style=\"text-align: right;\">\n",
       "      <th></th>\n",
       "      <th>token</th>\n",
       "      <th>prompt</th>\n",
       "      <th>max_sim</th>\n",
       "      <th>best_es</th>\n",
       "      <th>top3_es</th>\n",
       "    </tr>\n",
       "  </thead>\n",
       "  <tbody>\n",
       "    <tr>\n",
       "      <th>0</th>\n",
       "      <td>i</td>\n",
       "      <td>Yo soy un niño.</td>\n",
       "      <td>0.242132</td>\n",
       "      <td>yo</td>\n",
       "      <td>[(yo, 0.24213218688964844), (soy, 0.1722080409...</td>\n",
       "    </tr>\n",
       "    <tr>\n",
       "      <th>1</th>\n",
       "      <td>am</td>\n",
       "      <td>Yo soy un niño.</td>\n",
       "      <td>0.280849</td>\n",
       "      <td>soy</td>\n",
       "      <td>[(soy, 0.280849426984787), (yo, 0.182461321353...</td>\n",
       "    </tr>\n",
       "    <tr>\n",
       "      <th>2</th>\n",
       "      <td>a</td>\n",
       "      <td>Yo soy un niño.</td>\n",
       "      <td>0.441548</td>\n",
       "      <td>un</td>\n",
       "      <td>[(un, 0.44154781103134155), (niño, 0.095649838...</td>\n",
       "    </tr>\n",
       "    <tr>\n",
       "      <th>3</th>\n",
       "      <td>boy</td>\n",
       "      <td>Yo soy un niño.</td>\n",
       "      <td>0.402527</td>\n",
       "      <td>niño</td>\n",
       "      <td>[(niño, 0.40252676606178284), (soy, 0.16678625...</td>\n",
       "    </tr>\n",
       "    <tr>\n",
       "      <th>4</th>\n",
       "      <td>i</td>\n",
       "      <td>Yo soy de México.</td>\n",
       "      <td>0.242132</td>\n",
       "      <td>yo</td>\n",
       "      <td>[(yo, 0.24213218688964844), (soy, 0.1722080409...</td>\n",
       "    </tr>\n",
       "  </tbody>\n",
       "</table>\n",
       "</div>"
      ],
      "text/plain": [
       "  token             prompt   max_sim best_es  \\\n",
       "0     i    Yo soy un niño.  0.242132      yo   \n",
       "1    am    Yo soy un niño.  0.280849     soy   \n",
       "2     a    Yo soy un niño.  0.441548      un   \n",
       "3   boy    Yo soy un niño.  0.402527    niño   \n",
       "4     i  Yo soy de México.  0.242132      yo   \n",
       "\n",
       "                                             top3_es  \n",
       "0  [(yo, 0.24213218688964844), (soy, 0.1722080409...  \n",
       "1  [(soy, 0.280849426984787), (yo, 0.182461321353...  \n",
       "2  [(un, 0.44154781103134155), (niño, 0.095649838...  \n",
       "3  [(niño, 0.40252676606178284), (soy, 0.16678625...  \n",
       "4  [(yo, 0.24213218688964844), (soy, 0.1722080409...  "
      ]
     },
     "execution_count": 18,
     "metadata": {},
     "output_type": "execute_result"
    }
   ],
   "source": [
    "'''def cos_sim(a: np.ndarray, b: np.ndarray, eps=1e-12) -> float:\n",
    "    a = a / (np.linalg.norm(a) + eps)\n",
    "    b = b / (np.linalg.norm(b) + eps)\n",
    "    return float(a @ b)\n",
    "\n",
    "def row_scores(row, topk=3):\n",
    "    token = row.get('token')\n",
    "    if not isinstance(token, str):\n",
    "        return np.nan, None, []\n",
    "    token = token.lower()\n",
    "\n",
    "    if token not in en_vecs:\n",
    "        return np.nan, None, []\n",
    "\n",
    "    tvec = en_vecs[token]\n",
    "\n",
    "    prompt = row.get('prompt')\n",
    "    words = [w for w in es_words(prompt) if w in es_vecs]\n",
    "    if not words:\n",
    "        return np.nan, None, []\n",
    "\n",
    "    scored = [(w, cos_sim(tvec, es_vecs[w])) for w in words]\n",
    "    scored.sort(key=lambda x: x[1], reverse=True)\n",
    "    best_word, best_sim = scored[0]\n",
    "    return best_sim, best_word, scored[:topk]\n",
    "\n",
    "out = working_df.copy()\n",
    "\n",
    "# Cleaner assignment without zip(*...)\n",
    "out[['max_sim','best_es','top3_es']] = out.apply(row_scores, axis=1, result_type='expand')\n",
    "\n",
    "out[['token','prompt','max_sim','best_es','top3_es']].head()'''"
   ]
  },
  {
   "cell_type": "code",
   "execution_count": 21,
   "id": "fdd6105c",
   "metadata": {},
   "outputs": [
    {
     "data": {
      "image/png": "[encoded data removed]",
      "text/plain": [
       "<Figure size 640x480 with 1 Axes>"
      ]
     },
     "metadata": {},
     "output_type": "display_data"
    }
   ],
   "source": [
    "# Visualizations\n",
    "import matplotlib.pyplot as plt\n",
    "import seaborn as sns\n",
    "\n",
    "sns.histplot(out['max_sim'].dropna(), bins=50, kde=True)\n",
    "plt.title(\"Distribution of English–Spanish Max Similarity Scores\")\n",
    "plt.xlabel(\"Cosine Similarity\")\n",
    "plt.ylabel(\"Frequency\")\n",
    "plt.show()"
   ]
  },
  {
   "cell_type": "code",
   "execution_count": null,
   "id": "769c6e2d",
   "metadata": {},
   "outputs": [],
   "source": [
    "# Average similarity per POS\n",
    "pos_sim = out.groupby('part_of_speech')['max_sim'].mean().sort_values(ascending=False)\n",
    "pos_sim.plot(kind='bar', figsize=(10,4), title='Mean Similarity by Part of Speech')\n",
    "plt.ylabel(\"Mean max_sim\")"
   ]
  },
  {
   "cell_type": "code",
   "execution_count": null,
   "id": "2d70c880",
   "metadata": {},
   "outputs": [],
   "source": [
    "sns.boxplot(x='part_of_speech', y='max_sim', data=out)\n",
    "plt.xticks(rotation=45)\n",
    "plt.title(\"Distribution of Similarity by POS\")"
   ]
  },
  {
   "cell_type": "code",
   "execution_count": null,
   "id": "597a4a6c",
   "metadata": {},
   "outputs": [],
   "source": [
    "out.nlargest(10, 'max_sim')[['token', 'best_es', 'max_sim']]"
   ]
  },
  {
   "cell_type": "code",
   "execution_count": null,
   "id": "675f5f49",
   "metadata": {},
   "outputs": [],
   "source": [
    "out.nsmallest(10, 'max_sim')[['token', 'prompt', 'max_sim']]"
   ]
  },
  {
   "cell_type": "code",
   "execution_count": null,
   "id": "a4f2f895",
   "metadata": {},
   "outputs": [],
   "source": [
    "from sklearn.decomposition import PCA\n",
    "\n",
    "sample_words = ['boy','girl','dog','cat','house','niño','niña','perro','gato','casa']\n",
    "vecs, labels, langs = [], [], []\n",
    "\n",
    "for w in sample_words:\n",
    "    if w in en_vecs:\n",
    "        vecs.append(en_vecs[w]); labels.append(w); langs.append('EN')\n",
    "    elif w in es_vecs:\n",
    "        vecs.append(es_vecs[w]); labels.append(w); langs.append('ES')\n",
    "\n",
    "pca = PCA(n_components=2)\n",
    "coords = pca.fit_transform(np.stack(vecs))\n",
    "\n",
    "plt.figure(figsize=(6,6))\n",
    "sns.scatterplot(x=coords[:,0], y=coords[:,1], hue=langs)\n",
    "for (x, y, l) in zip(coords[:,0], coords[:,1], labels):\n",
    "    plt.text(x+0.02, y+0.02, l, fontsize=9)\n",
    "plt.title(\"PCA Projection of Selected EN–ES Words\")\n",
    "plt.show()"
   ]
  },
  {
   "cell_type": "code",
   "execution_count": null,
   "id": "98dc0175",
   "metadata": {},
   "outputs": [],
   "source": [
    "freq = working_df['token'].str.lower().value_counts()\n",
    "out['freq'] = out['token'].str.lower().map(freq)\n",
    "sns.scatterplot(x=np.log1p(out['freq']), y=out['max_sim'])\n",
    "plt.xlabel(\"log(Token Frequency)\")\n",
    "plt.ylabel(\"Max Similarity\")\n",
    "plt.title(\"Frequency vs. Similarity\")"
   ]
  }
 ],
 "metadata": {
  "kernelspec": {
   "display_name": "erdos_ds_environment",
   "language": "python",
   "name": "python3"
  },
  "language_info": {
   "codemirror_mode": {
    "name": "ipython",
    "version": 3
   },
   "file_extension": ".py",
   "mimetype": "text/x-python",
   "name": "python",
   "nbconvert_exporter": "python",
   "pygments_lexer": "ipython3",
   "version": "3.12.11"
  }
 },
 "nbformat": 4,
 "nbformat_minor": 5
}
