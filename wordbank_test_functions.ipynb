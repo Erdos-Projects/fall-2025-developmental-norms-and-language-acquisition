{
 "cells": [
  {
   "cell_type": "code",
   "execution_count": null,
   "id": "0",
   "metadata": {},
   "outputs": [],
   "source": [
    "from load_wordbank_data import read_and_clean_wordbank_data\n",
    "from wordbank_logistic_fits import compute_curve_fits, plot_curve_fits, compute_and_export_curve_fits"
   ]
  },
  {
   "cell_type": "code",
   "execution_count": null,
   "id": "1",
   "metadata": {},
   "outputs": [],
   "source": [
    "split_dict_WS = {'old_item_definition':'inside/in',\n",
    "              'new_item_definitions':['inside', 'in'],\n",
    "              'new_lemmas':['inside', 'in']\n",
    "              }\n",
    "df_WS = read_and_clean_wordbank_data('~/Desktop/LingPredict data/wordbank_data_WS_Produces_en_US.csv',\n",
    "                                        '~/Desktop/LingPredict data/uni_lemmas_WS_en_US.csv',\n",
    "                                        lang='en', inventory='WS', measure='Produces',\n",
    "                                        items_to_split=[split_dict_WS], cols_to_drop=['28'] # drop 28 month outlier\n",
    "                                      )\n",
    "df_WG = read_and_clean_wordbank_data('~/Desktop/LingPredict data/wordbank_data_WG_Produces_en_US.csv',\n",
    "                                        '~/Desktop/LingPredict data/uni_lemmas_WG_en_US.csv',\n",
    "                                        lang='en', inventory='WG', measure='Produces',\n",
    "                                      )\n",
    "df_WG_U = read_and_clean_wordbank_data('~/Desktop/LingPredict data/wordbank_data_WG_Understands_en_US.csv',\n",
    "                                        '~/Desktop/LingPredict data/uni_lemmas_WG_en_US.csv',\n",
    "                                        lang='en', inventory='WG', measure='Understands',\n",
    "                                      )"
   ]
  },
  {
   "cell_type": "code",
   "execution_count": null,
   "id": "2",
   "metadata": {},
   "outputs": [],
   "source": [
    "display(df_WS.head())\n",
    "display(df_WS.tail())\n",
    "df_WS.shape"
   ]
  },
  {
   "cell_type": "code",
   "execution_count": null,
   "id": "3",
   "metadata": {},
   "outputs": [],
   "source": [
    "display(df_WG.head())\n",
    "display(df_WG.tail())\n",
    "df_WG.shape"
   ]
  },
  {
   "cell_type": "code",
   "execution_count": null,
   "id": "4",
   "metadata": {},
   "outputs": [],
   "source": [
    "display(df_WG_U.head())\n",
    "display(df_WG_U.tail())\n",
    "df_WG_U.shape"
   ]
  },
  {
   "cell_type": "code",
   "execution_count": null,
   "id": "5",
   "metadata": {},
   "outputs": [],
   "source": [
    "print(df_WG['uni_lemma'].isin(df_WS['uni_lemma']).all())"
   ]
  },
  {
   "cell_type": "code",
   "execution_count": null,
   "id": "6",
   "metadata": {},
   "outputs": [],
   "source": [
    "dfs = [df_WS, df_WG, df_WG_U]\n",
    "df_curve_fits = compute_curve_fits(dfs)"
   ]
  },
  {
   "cell_type": "code",
   "execution_count": null,
   "id": "7",
   "metadata": {},
   "outputs": [],
   "source": [
    "# plot_curve_fits(df_curve_fits)"
   ]
  },
  {
   "cell_type": "code",
   "execution_count": null,
   "id": "8",
   "metadata": {},
   "outputs": [],
   "source": [
    "print(df_curve_fits.sort_values(by='median_aoa', ascending=True)[['uni_lemma', 'growth_rate', 'median_aoa']].head(10))"
   ]
  },
  {
   "cell_type": "code",
   "execution_count": null,
   "id": "9",
   "metadata": {},
   "outputs": [],
   "source": [
    "print(df_curve_fits.drop(columns=['__plot_data__']).head())"
   ]
  },
  {
   "cell_type": "code",
   "execution_count": null,
   "id": "10",
   "metadata": {},
   "outputs": [],
   "source": [
    "# compute_and_export_curve_fits('~/Desktop/wordbank_en_logistic_fits.csv', dfs)"
   ]
  },
  {
   "cell_type": "code",
   "execution_count": null,
   "id": "11",
   "metadata": {},
   "outputs": [],
   "source": []
  }
 ],
 "metadata": {
  "kernelspec": {
   "display_name": "erdos_ds_environment",
   "language": "python",
   "name": "python3"
  },
  "language_info": {
   "codemirror_mode": {
    "name": "ipython",
    "version": 3
   },
   "file_extension": ".py",
   "mimetype": "text/x-python",
   "name": "python",
   "nbconvert_exporter": "python",
   "pygments_lexer": "ipython3",
   "version": "3.12.11"
  }
 },
 "nbformat": 4,
 "nbformat_minor": 5
}
